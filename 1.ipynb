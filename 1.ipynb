{
 "cells": [
  {
   "cell_type": "code",
   "execution_count": 7,
   "metadata": {},
   "outputs": [],
   "source": [
    "import pandas as pd"
   ]
  },
  {
   "cell_type": "code",
   "execution_count": 10,
   "metadata": {},
   "outputs": [],
   "source": [
    "telemetry1 = pd.read_csv(\"telemetry_1.csv\")\n",
    "telemetry2 = pd.read_csv(\"telemetry_2.csv\")\n",
    "vehicle_data = pd.read_csv(\"vehicle_data.csv\")"
   ]
  },
  {
   "cell_type": "markdown",
   "metadata": {},
   "source": [
    "## Display the first few rows of each dataset to understand the structure"
   ]
  },
  {
   "cell_type": "code",
   "execution_count": 11,
   "metadata": {},
   "outputs": [
    {
     "name": "stdout",
     "output_type": "stream",
     "text": [
      "Telemetry 1:\n",
      "    vehicle_id                         timestamp  speed  odometer  fuel_level\n",
      "0   vehicle_4         2024-06-06 14:26:23-07:00   64.2       NaN         NaN\n",
      "1   vehicle_8  2024-07-05 22:24:12.856000-07:00    1.6   12048.0         NaN\n",
      "2   vehicle_3  2024-06-20 12:57:59.306000-07:00    NaN       NaN        45.0\n",
      "3  vehicle_10  2024-07-24 18:04:23.776000-07:00   36.2    1434.7         NaN\n",
      "4  vehicle_11         2024-07-06 11:08:03-07:00   29.5       NaN         NaN\n",
      "\n",
      "Telemetry 2:\n",
      "    vehicle_id                         timestamp   val   name\n",
      "0   vehicle_4         2024-07-23 19:56:44+05:30   0.0  speed\n",
      "1  vehicle_11         2024-04-04 22:33:56+05:30  52.7  speed\n",
      "2   vehicle_3  2024-07-18 23:30:04.027000+05:30   5.8  speed\n",
      "3   vehicle_3  2024-05-22 00:49:49.402000+05:30  34.4  speed\n",
      "4  vehicle_10  2024-07-16 05:48:11.710000+05:30  42.8  speed\n",
      "\n",
      "Vehicle Data:\n",
      "           id datasource  tank_capacity  rated_mpg\n",
      "0  vehicle_1   source_1           18.0         35\n",
      "1  vehicle_2   source_1           15.8         32\n",
      "2  vehicle_3   source_2           15.8         24\n",
      "3  vehicle_4   source_1           13.0         32\n",
      "4  vehicle_5   source_2           23.0         22\n"
     ]
    }
   ],
   "source": [
    "print(\"Telemetry 1:\\n\", telemetry1.head())\n",
    "print(\"\\nTelemetry 2:\\n\", telemetry2.head())\n",
    "print(\"\\nVehicle Data:\\n\", vehicle_data.head())"
   ]
  },
  {
   "cell_type": "markdown",
   "metadata": {},
   "source": [
    "# Normalize Telemetry 2 by pivoting so that the 'Name' column becomes the new columns"
   ]
  },
  {
   "cell_type": "code",
   "execution_count": 16,
   "metadata": {},
   "outputs": [],
   "source": [
    "telemetry2_pivot = telemetry2.pivot_table(index=['vehicle_id', 'timestamp'], columns='name', values='val').reset_index()"
   ]
  },
  {
   "cell_type": "code",
   "execution_count": null,
   "metadata": {},
   "outputs": [],
   "source": []
  }
 ],
 "metadata": {
  "kernelspec": {
   "display_name": "Python 3",
   "language": "python",
   "name": "python3"
  },
  "language_info": {
   "codemirror_mode": {
    "name": "ipython",
    "version": 3
   },
   "file_extension": ".py",
   "mimetype": "text/x-python",
   "name": "python",
   "nbconvert_exporter": "python",
   "pygments_lexer": "ipython3",
   "version": "3.12.4"
  }
 },
 "nbformat": 4,
 "nbformat_minor": 2
}
